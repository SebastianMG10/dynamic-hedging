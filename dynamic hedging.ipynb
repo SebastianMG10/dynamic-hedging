{
 "cells": [
  {
   "cell_type": "code",
   "execution_count": 1,
   "metadata": {},
   "outputs": [],
   "source": [
    "import pandas as pd\n",
    "import numpy as np"
   ]
  },
  {
   "cell_type": "code",
   "execution_count": 2,
   "metadata": {},
   "outputs": [
    {
     "data": {
      "text/html": [
       "<div>\n",
       "<style scoped>\n",
       "    .dataframe tbody tr th:only-of-type {\n",
       "        vertical-align: middle;\n",
       "    }\n",
       "\n",
       "    .dataframe tbody tr th {\n",
       "        vertical-align: top;\n",
       "    }\n",
       "\n",
       "    .dataframe thead th {\n",
       "        text-align: right;\n",
       "    }\n",
       "</style>\n",
       "<table border=\"1\" class=\"dataframe\">\n",
       "  <thead>\n",
       "    <tr style=\"text-align: right;\">\n",
       "      <th></th>\n",
       "      <th>Fecha</th>\n",
       "      <th>Cierre</th>\n",
       "      <th>Apertura</th>\n",
       "      <th>Máximo</th>\n",
       "      <th>Mínimo</th>\n",
       "      <th>Vol.</th>\n",
       "      <th>% var.</th>\n",
       "    </tr>\n",
       "  </thead>\n",
       "  <tbody>\n",
       "    <tr>\n",
       "      <th>0</th>\n",
       "      <td>18.10.2024</td>\n",
       "      <td>235.00</td>\n",
       "      <td>236.18</td>\n",
       "      <td>236.18</td>\n",
       "      <td>234.01</td>\n",
       "      <td>46.43M</td>\n",
       "      <td>1.23%</td>\n",
       "    </tr>\n",
       "    <tr>\n",
       "      <th>1</th>\n",
       "      <td>17.10.2024</td>\n",
       "      <td>232.15</td>\n",
       "      <td>233.43</td>\n",
       "      <td>233.85</td>\n",
       "      <td>230.52</td>\n",
       "      <td>32.99M</td>\n",
       "      <td>0.16%</td>\n",
       "    </tr>\n",
       "    <tr>\n",
       "      <th>2</th>\n",
       "      <td>16.10.2024</td>\n",
       "      <td>231.78</td>\n",
       "      <td>231.60</td>\n",
       "      <td>232.12</td>\n",
       "      <td>229.84</td>\n",
       "      <td>34.08M</td>\n",
       "      <td>-0.89%</td>\n",
       "    </tr>\n",
       "    <tr>\n",
       "      <th>3</th>\n",
       "      <td>15.10.2024</td>\n",
       "      <td>233.85</td>\n",
       "      <td>233.61</td>\n",
       "      <td>237.49</td>\n",
       "      <td>232.37</td>\n",
       "      <td>64.75M</td>\n",
       "      <td>1.10%</td>\n",
       "    </tr>\n",
       "    <tr>\n",
       "      <th>4</th>\n",
       "      <td>14.10.2024</td>\n",
       "      <td>231.30</td>\n",
       "      <td>228.70</td>\n",
       "      <td>231.73</td>\n",
       "      <td>228.60</td>\n",
       "      <td>39.88M</td>\n",
       "      <td>1.65%</td>\n",
       "    </tr>\n",
       "  </tbody>\n",
       "</table>\n",
       "</div>"
      ],
      "text/plain": [
       "        Fecha  Cierre  Apertura  Máximo  Mínimo    Vol.  % var.\n",
       "0  18.10.2024  235.00    236.18  236.18  234.01  46.43M   1.23%\n",
       "1  17.10.2024  232.15    233.43  233.85  230.52  32.99M   0.16%\n",
       "2  16.10.2024  231.78    231.60  232.12  229.84  34.08M  -0.89%\n",
       "3  15.10.2024  233.85    233.61  237.49  232.37  64.75M   1.10%\n",
       "4  14.10.2024  231.30    228.70  231.73  228.60  39.88M   1.65%"
      ]
     },
     "execution_count": 2,
     "metadata": {},
     "output_type": "execute_result"
    }
   ],
   "source": [
    "data = pd.read_csv('C:/Users/sebmg/OneDrive - ITESO/Documentos/ITESO/11 semestre/PAP #2/Dynamic Hedging/Datos históricos AAPL.csv')\n",
    "data.head()"
   ]
  },
  {
   "cell_type": "code",
   "execution_count": 3,
   "metadata": {},
   "outputs": [
    {
     "ename": "SyntaxError",
     "evalue": "invalid syntax (1986146979.py, line 4)",
     "output_type": "error",
     "traceback": [
      "\u001b[1;36m  Cell \u001b[1;32mIn[3], line 4\u001b[1;36m\u001b[0m\n\u001b[1;33m    data['TTMaturity'] =\u001b[0m\n\u001b[1;37m                         ^\u001b[0m\n\u001b[1;31mSyntaxError\u001b[0m\u001b[1;31m:\u001b[0m invalid syntax\n"
     ]
    }
   ],
   "source": [
    "data['Rendimiento'] = data['Cierre'].pct_change()\n",
    "data['Volatilidad'] = data['Rendimiento'].rolling(252).std()\n",
    "data['RF'] = 0.04\n",
    "data['TTMaturity'] = \n",
    "data['delta'] = \n",
    "data.dropna()"
   ]
  },
  {
   "cell_type": "code",
   "execution_count": null,
   "metadata": {},
   "outputs": [],
   "source": [
    "X = data[['Cierre', 'Volatilidad', 'RF', 'gamma', 'theta', 'vega']]\n",
    "y = data['delta']\n",
    "# put por si tenemos el 1m en aapl backtesting es si en efecto usamos el put, hacer un \"reebalanceo\" de cobertura dependiendo de la3 Delta"
   ]
  },
  {
   "cell_type": "code",
   "execution_count": 7,
   "metadata": {},
   "outputs": [],
   "source": [
    "from optiontools.options import European"
   ]
  },
  {
   "cell_type": "code",
   "execution_count": null,
   "metadata": {},
   "outputs": [],
   "source": []
  }
 ],
 "metadata": {
  "kernelspec": {
   "display_name": "Python 3",
   "language": "python",
   "name": "python3"
  },
  "language_info": {
   "codemirror_mode": {
    "name": "ipython",
    "version": 3
   },
   "file_extension": ".py",
   "mimetype": "text/x-python",
   "name": "python",
   "nbconvert_exporter": "python",
   "pygments_lexer": "ipython3",
   "version": "3.12.7"
  }
 },
 "nbformat": 4,
 "nbformat_minor": 2
}
